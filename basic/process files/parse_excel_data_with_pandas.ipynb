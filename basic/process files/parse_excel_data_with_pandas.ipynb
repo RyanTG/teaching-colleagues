{
 "cells": [
  {
   "cell_type": "markdown",
   "metadata": {},
   "source": [
    "# Parse pedestrian volumes from an Excel-based Turning Movement Count\n",
    "\n",
    "We have a folder full of Excel count data and companion PDFs. We need to parse each one to pull out a Pedestrian-specific volume number that we can then use to scale point sizes on a GIS map.\n",
    "\n",
    "Things to note:\n",
    "- Data does not start on Row 1\n",
    "- There are typically 4 columns with Ped data, but there could be non-standard intersections with more or fewer legs\n",
    "\n",
    "### Use jupyter to prototype a solution:"
   ]
  },
  {
   "cell_type": "code",
   "execution_count": 1,
   "metadata": {},
   "outputs": [],
   "source": [
    "import pandas as pd\n",
    "import os\n",
    "\n",
    "data_folder = r\"C:\\Users\\ryantaylorgratzer\\Documents\\Active_Projects\\Data Science\\Counts\\Counts\\Count Reports 6-17-19\"\n",
    "test_file = os.path.join(data_folder, \"1 LICK MILL BLVD & TASMAN DR.xls\")"
   ]
  },
  {
   "cell_type": "code",
   "execution_count": 2,
   "metadata": {},
   "outputs": [],
   "source": [
    "# Read the file starting at line 10\n",
    "df = pd.read_excel(test_file, sheet_name=\"Vehicles\", header=9)"
   ]
  },
  {
   "cell_type": "code",
   "execution_count": 3,
   "metadata": {},
   "outputs": [],
   "source": [
    "# Make a variable that will hold the total across all \"Peds\" columns\n",
    "running_total = 0\n",
    "morning_peak = 0\n",
    "midday = 0\n",
    "evening_peak = 0\n",
    "\n",
    "# Get a list of all \"Peds\" column names\n",
    "ped_cols = [x for x in df.columns if \"Peds\" in x]"
   ]
  },
  {
   "cell_type": "code",
   "execution_count": 4,
   "metadata": {},
   "outputs": [
    {
     "name": "stdout",
     "output_type": "stream",
     "text": [
      "542\n"
     ]
    }
   ],
   "source": [
    "# For each column, get the sum and add it to the running total\n",
    "for col in ped_cols:\n",
    "    col_total = df[col].sum()\n",
    "\n",
    "    running_total += col_total\n",
    "        \n",
    "print(running_total)"
   ]
  },
  {
   "cell_type": "code",
   "execution_count": 5,
   "metadata": {},
   "outputs": [
    {
     "name": "stdout",
     "output_type": "stream",
     "text": [
      "151\n"
     ]
    }
   ],
   "source": [
    "# For each column, get the sum of morning peak rows (7-10am) and add it to the morning peak total\n",
    "for col in ped_cols:\n",
    "    col_total = df[8:19][col].sum()\n",
    "\n",
    "    morning_peak += col_total\n",
    "        \n",
    "print(morning_peak)"
   ]
  },
  {
   "cell_type": "code",
   "execution_count": 6,
   "metadata": {},
   "outputs": [
    {
     "name": "stdout",
     "output_type": "stream",
     "text": [
      "124\n"
     ]
    }
   ],
   "source": [
    "# For each column, get the sum of midday rows (10am-3pm) and add it to the midday total\n",
    "for col in ped_cols:\n",
    "    col_total = df[20:39][col].sum()\n",
    "\n",
    "    midday += col_total\n",
    "        \n",
    "print(midday)"
   ]
  },
  {
   "cell_type": "code",
   "execution_count": 7,
   "metadata": {},
   "outputs": [
    {
     "name": "stdout",
     "output_type": "stream",
     "text": [
      "94\n"
     ]
    }
   ],
   "source": [
    "# For each column, get the sum of midday rows (3pm-6pm) and add it to the midday total\n",
    "for col in ped_cols:\n",
    "    col_total = df[40:52][col].sum()\n",
    "\n",
    "    evening_peak += col_total\n",
    "        \n",
    "print(evening_peak)"
   ]
  },
  {
   "cell_type": "markdown",
   "metadata": {},
   "source": [
    "### Once you have a working solution, compartmentalize it within a function:\n",
    "\n",
    "Notice that I've left a few ``TODO`` items in there. Figure out how to add those in after you've reviewed the code"
   ]
  },
  {
   "cell_type": "code",
   "execution_count": 8,
   "metadata": {},
   "outputs": [],
   "source": [
    "# Now do all the above as a function\n",
    "\n",
    "def get_ped_total(excel_count_file):\n",
    "    # Read the file starting at line 10\n",
    "    df = pd.read_excel(excel_count_file, sheet_name=\"Vehicles\", header=9)\n",
    "\n",
    "    # Make a variable that will hold the totals (for different time buckets) across all \"Peds\" columns\n",
    "    daily_total = 0\n",
    "    morning_peak = 0\n",
    "    midday = 0\n",
    "    evening_peak = 0\n",
    "\n",
    "    # Get a list of all \"Peds\" column names\n",
    "    ped_cols = [x for x in df.columns if \"Peds\" in x]\n",
    "\n",
    "    # For each column, get the sum and add it to the daily total\n",
    "    for col in ped_cols:\n",
    "        col_total = df[col].sum()\n",
    "\n",
    "        daily_total += col_total\n",
    "        \n",
    "    # parse out a few time buckets (i.e. AM peak, midday, PM peak)\n",
    "    \n",
    "    # For each column, get the sum of morning peak rows (7-10am) and add it to the morning peak total\n",
    "    for col in ped_cols:\n",
    "        col_total = df[8:19][col].sum()\n",
    "\n",
    "        morning_peak += col_total\n",
    "    \n",
    "    # For each column, get the sum of midday rows (10am-3pm) and add it to the midday total\n",
    "    for col in ped_cols:\n",
    "        col_total = df[20:39][col].sum()\n",
    "\n",
    "        midday += col_total\n",
    "    \n",
    "    # For each column, get the sum of midday rows (3pm-6pm) and add it to the midday total\n",
    "    for col in ped_cols:\n",
    "        col_total = df[40:52][col].sum()\n",
    "\n",
    "        evening_peak += col_total\n",
    "    \n",
    "    # modify the return value so that the function returns the daily total along with the time bucket totals\n",
    "    \n",
    "    return daily_total\n",
    "    return morning_peak\n",
    "    return midday\n",
    "    return evening_peak"
   ]
  },
  {
   "cell_type": "markdown",
   "metadata": {},
   "source": [
    "### Now we're ready to iterate over all Excel files and pull results out"
   ]
  },
  {
   "cell_type": "code",
   "execution_count": 9,
   "metadata": {},
   "outputs": [
    {
     "ename": "NameError",
     "evalue": "name 'xlsx_folder' is not defined",
     "output_type": "error",
     "traceback": [
      "\u001b[1;31m---------------------------------------------------------------------------\u001b[0m",
      "\u001b[1;31mNameError\u001b[0m                                 Traceback (most recent call last)",
      "\u001b[1;32m<ipython-input-9-47f5c171b211>\u001b[0m in \u001b[0;36m<module>\u001b[1;34m\u001b[0m\n\u001b[0;32m      1\u001b[0m \u001b[1;32mfor\u001b[0m \u001b[0mf\u001b[0m \u001b[1;32min\u001b[0m \u001b[0mos\u001b[0m\u001b[1;33m.\u001b[0m\u001b[0mlistdir\u001b[0m\u001b[1;33m(\u001b[0m\u001b[0mdata_folder\u001b[0m\u001b[1;33m)\u001b[0m\u001b[1;33m:\u001b[0m\u001b[1;33m\u001b[0m\u001b[1;33m\u001b[0m\u001b[0m\n\u001b[1;32m----> 2\u001b[1;33m     \u001b[0mxls_path\u001b[0m \u001b[1;33m=\u001b[0m \u001b[0mos\u001b[0m\u001b[1;33m.\u001b[0m\u001b[0mpath\u001b[0m\u001b[1;33m.\u001b[0m\u001b[0mjoin\u001b[0m\u001b[1;33m(\u001b[0m\u001b[0mxlsx_folder\u001b[0m\u001b[1;33m,\u001b[0m \u001b[0mf\u001b[0m\u001b[1;33m)\u001b[0m\u001b[1;33m\u001b[0m\u001b[1;33m\u001b[0m\u001b[0m\n\u001b[0m\u001b[0;32m      3\u001b[0m     \u001b[0mtotal\u001b[0m \u001b[1;33m=\u001b[0m \u001b[0mget_ped_total\u001b[0m\u001b[1;33m(\u001b[0m\u001b[0mxls_path\u001b[0m\u001b[1;33m)\u001b[0m\u001b[1;33m\u001b[0m\u001b[1;33m\u001b[0m\u001b[0m\n\u001b[0;32m      4\u001b[0m \u001b[1;33m\u001b[0m\u001b[0m\n\u001b[0;32m      5\u001b[0m     \u001b[0mprint\u001b[0m\u001b[1;33m(\u001b[0m\u001b[0mtotal\u001b[0m\u001b[1;33m,\u001b[0m \u001b[0mf\u001b[0m\u001b[1;33m)\u001b[0m\u001b[1;33m\u001b[0m\u001b[1;33m\u001b[0m\u001b[0m\n",
      "\u001b[1;31mNameError\u001b[0m: name 'xlsx_folder' is not defined"
     ]
    }
   ],
   "source": [
    "for f in os.listdir(data_folder):\n",
    "    xls_path = os.path.join(xlsx_folder, f)\n",
    "    total = get_ped_total(xls_path)\n",
    "    \n",
    "    print(total, f)"
   ]
  },
  {
   "cell_type": "markdown",
   "metadata": {},
   "source": [
    "# ``TODO``\n",
    "\n",
    "- Iterate over all files, getting full day and time bucket data\n",
    "- Wrangle all results into a ``pandas.DataFrame``. Each location (/excel file) becomes a row in this table.\n",
    "- Save this dataframe to ``.csv``"
   ]
  }
 ],
 "metadata": {
  "jupytext": {
   "formats": "ipynb,py:light",
   "text_representation": {
    "extension": ".py",
    "format_name": "light",
    "format_version": "1.4",
    "jupytext_version": "1.2.1"
   }
  },
  "kernelspec": {
   "display_name": "Python 3",
   "language": "python",
   "name": "python3"
  },
  "language_info": {
   "codemirror_mode": {
    "name": "ipython",
    "version": 3
   },
   "file_extension": ".py",
   "mimetype": "text/x-python",
   "name": "python",
   "nbconvert_exporter": "python",
   "pygments_lexer": "ipython3",
   "version": "3.7.4"
  }
 },
 "nbformat": 4,
 "nbformat_minor": 2
}
